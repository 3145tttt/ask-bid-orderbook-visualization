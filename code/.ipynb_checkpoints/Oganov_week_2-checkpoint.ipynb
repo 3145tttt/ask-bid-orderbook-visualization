{
 "cells": [
  {
   "cell_type": "code",
   "execution_count": 1,
   "id": "bffefac4",
   "metadata": {},
   "outputs": [],
   "source": [
    "import ipywidgets as widgets\n",
    "from ipywidgets import interact, interact_manual\n",
    "import json\n",
    "import pandas as pd\n",
    "import numpy as np\n",
    "from io import StringIO\n",
    "from collections import defaultdict\n",
    "from colorama import Fore"
   ]
  },
  {
   "cell_type": "code",
   "execution_count": 2,
   "id": "535d195d",
   "metadata": {},
   "outputs": [],
   "source": [
    "lines = []\n",
    "k = 100000\n",
    "with open('../data/cut_ab_801_data.txt') as f:\n",
    "    for i in range(k):\n",
    "        lines.append(f.readline())"
   ]
  },
  {
   "cell_type": "code",
   "execution_count": 3,
   "id": "f02249f5",
   "metadata": {},
   "outputs": [],
   "source": [
    "deal_arr = []\n",
    "order_book_arr = []\n",
    "\n",
    "\n",
    "for i in range(k):\n",
    "    io = StringIO(lines[i])\n",
    "    t = json.load(io)\n",
    "    if t['type'] == 'OrderBook':\n",
    "        order_book_arr.append(t)\n",
    "    else:\n",
    "        deal_arr.append(t)\n",
    "\n",
    "        \n",
    "arr_A = []\n",
    "arr_B = []\n",
    "arr_AB = []\n",
    "for d in order_book_arr:\n",
    "    if d['symbol'] == 'A':\n",
    "        arr_A.append(d)\n",
    "    elif d['symbol'] == 'B':\n",
    "        arr_B.append(d)\n",
    "    else:\n",
    "        arr_AB.append(d)\n",
    "      \n",
    "time_hash_A = {}\n",
    "time_hash_B = {}\n",
    "\n",
    "for d in arr_A:\n",
    "    time_hash_A[d['server_time']] = d\n",
    "    \n",
    "for d in arr_B:\n",
    "    time_hash_B[d['server_time']] = d\n",
    "    \n",
    "my_time_A = np.array(list(time_hash_A.keys()))\n",
    "my_time_B = np.array(list(time_hash_B.keys()))\n",
    "all_time = np.concatenate([my_time_A, my_time_B])\n",
    "all_time = np.unique(all_time)\n",
    "all_time = np.sort(all_time)"
   ]
  },
  {
   "cell_type": "code",
   "execution_count": 4,
   "id": "f7f99680",
   "metadata": {},
   "outputs": [],
   "source": [
    "def print_row(price1, vol1, state1, price2, vol2, state2, sep='\\t\\t\\t'):\n",
    "    \n",
    "    if state1 == 'BID':\n",
    "        color1 = Fore.RED\n",
    "    elif state1 == 'ASK':\n",
    "        color1 = Fore.GREEN\n",
    "    else:\n",
    "        color1 = Fore.BLACK\n",
    "        \n",
    "    if state2 == 'BID':\n",
    "        color2 = Fore.RED\n",
    "    elif state2 == 'ASK':\n",
    "        color2 = Fore.GREEN\n",
    "    else:\n",
    "        color2 = Fore.BLACK\n",
    "    \n",
    "    print(color1, '{0: <20}'.format(price1), '{0: >7}'.format(vol1), end=sep)\n",
    "    print(color2, '{0: <20}'.format(price2), '{0: >7}'.format(vol2))"
   ]
  },
  {
   "cell_type": "code",
   "execution_count": 5,
   "id": "ae9b9873",
   "metadata": {},
   "outputs": [],
   "source": [
    "def print_glass(index=0):\n",
    "    time = all_time[index]\n",
    "    cur_time_A = my_time_A[np.argmin(my_time_A < time)]\n",
    "    cur_time_B = my_time_B[np.argmin(my_time_B < time)]\n",
    "    sep = '\\t\\t\\t'\n",
    "    print(Fore.BLACK, '{0: <27}'.format(time), sep, '{0: <30}'.format(time))\n",
    "    print(Fore.BLUE, '{0: <20}'.format(cur_time_A), '{0: >7}'.format('A'), end=sep)\n",
    "    print(Fore.BLUE, '{0: <20}'.format(cur_time_B), '{0: >7}'.format('B'))\n",
    "    dict_A = time_hash_A[cur_time_A]\n",
    "    quotes_ask_A = [t for t in dict_A['quotes'][0]]\n",
    "    quotes_bid_A = [t for t in dict_A['quotes'][1]]\n",
    "    \n",
    "    quotes_vol_dic_A = defaultdict(int)\n",
    "    quotes_state_dic_A = defaultdict(str)\n",
    "    for rec in quotes_ask_A:\n",
    "        quotes_vol_dic_A[rec['price']] = rec['volume']\n",
    "        quotes_state_dic_A[rec['price']] = 'ASK'\n",
    "        \n",
    "    for rec in quotes_bid_A:\n",
    "        quotes_vol_dic_A[rec['price']] = rec['volume']\n",
    "        quotes_state_dic_A[rec['price']] = 'BID'\n",
    "    \n",
    "    dict_B = time_hash_B[cur_time_B]\n",
    "    quotes_ask_B = [t for t in dict_B['quotes'][0]]\n",
    "    quotes_bid_B = [t for t in dict_B['quotes'][1]]\n",
    "    \n",
    "    quotes_vol_dic_B = defaultdict(int)\n",
    "    quotes_state_dic_B = defaultdict(str)\n",
    "    \n",
    "    for rec in quotes_ask_B:\n",
    "        quotes_vol_dic_B[rec['price']] = rec['volume']\n",
    "        quotes_state_dic_B[rec['price']] = 'ASK'\n",
    "        \n",
    "    for rec in quotes_bid_B:\n",
    "        quotes_vol_dic_B[rec['price']] = rec['volume']\n",
    "        quotes_state_dic_B[rec['price']] = 'BID'\n",
    "    step, count = 0.5, 44\n",
    "    start_A = 8820\n",
    "    end_A = start_A + step*count\n",
    "    prices_A = np.arange(start_A, end_A, step)[::-1]\n",
    "    start_B = 8800\n",
    "    end_B = start_B + step*count\n",
    "    prices_B = np.arange(start_B, end_B, step)[::-1]\n",
    "    for i in range(count):\n",
    "        vol1, state1 = quotes_vol_dic_A[prices_A[i]], quotes_state_dic_A[prices_A[i]]\n",
    "        vol2, state2 = quotes_vol_dic_B[prices_B[i]], quotes_state_dic_B[prices_B[i]]\n",
    "        print_row(prices_A[i], vol1, state1, prices_B[i], vol2, state2)\n",
    "        "
   ]
  },
  {
   "cell_type": "code",
   "execution_count": 6,
   "id": "f5eaa881",
   "metadata": {},
   "outputs": [
    {
     "data": {
      "application/vnd.jupyter.widget-view+json": {
       "model_id": "1d66f91af5d842eca25faaa02e156174",
       "version_major": 2,
       "version_minor": 0
      },
      "text/plain": [
       "interactive(children=(IntSlider(value=0, description='index', max=82729), Output()), _dom_classes=('widget-int…"
      ]
     },
     "metadata": {},
     "output_type": "display_data"
    },
    {
     "data": {
      "text/plain": [
       "<function __main__.print_glass(index=0)>"
      ]
     },
     "execution_count": 6,
     "metadata": {},
     "output_type": "execute_result"
    }
   ],
   "source": [
    "widgets.interact(print_glass,\\\n",
    "                     index=widgets.IntSlider(min=0, max=all_time.shape[0] - 1, step=1))"
   ]
  },
  {
   "cell_type": "code",
   "execution_count": 7,
   "id": "2c687520",
   "metadata": {},
   "outputs": [],
   "source": [
    "deal_arr_A, deal_arr_B = [], []\n",
    "\n",
    "for d in deal_arr:\n",
    "    if d['symbol'] == 'A':\n",
    "        deal_arr_A.append(d)\n",
    "    elif d['symbol'] == 'B':\n",
    "        deal_arr_A.append(d)\n",
    "    else:\n",
    "        print(\"oh\")"
   ]
  },
  {
   "cell_type": "code",
   "execution_count": 9,
   "id": "3690292a",
   "metadata": {},
   "outputs": [
    {
     "data": {
      "text/plain": [
       "(6494, 0)"
      ]
     },
     "execution_count": 9,
     "metadata": {},
     "output_type": "execute_result"
    }
   ],
   "source": [
    "len(deal_arr_A), len(deal_arr_B) #не понятно что делать с этим так как список сделок B пуст"
   ]
  },
  {
   "cell_type": "code",
   "execution_count": null,
   "id": "a7c054b7",
   "metadata": {},
   "outputs": [],
   "source": []
  }
 ],
 "metadata": {
  "kernelspec": {
   "display_name": "Python 3",
   "language": "python",
   "name": "python3"
  },
  "language_info": {
   "codemirror_mode": {
    "name": "ipython",
    "version": 3
   },
   "file_extension": ".py",
   "mimetype": "text/x-python",
   "name": "python",
   "nbconvert_exporter": "python",
   "pygments_lexer": "ipython3",
   "version": "3.7.10"
  }
 },
 "nbformat": 4,
 "nbformat_minor": 5
}
